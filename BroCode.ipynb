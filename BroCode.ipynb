{
 "cells": [
  {
   "cell_type": "code",
   "execution_count": 3,
   "metadata": {},
   "outputs": [
    {
     "name": "stdout",
     "output_type": "stream",
     "text": [
      "I Like Dosa\n",
      "Its really good\n"
     ]
    }
   ],
   "source": [
    "# This is my first Pyhton Program\n",
    "print(\"I Like Dosa\")\n",
    "print(\"Its really good\")"
   ]
  },
  {
   "cell_type": "code",
   "execution_count": null,
   "metadata": {},
   "outputs": [
    {
     "name": "stdout",
     "output_type": "stream",
     "text": [
      "Nitesh\n"
     ]
    }
   ],
   "source": [
    "## Variable =  A container for a value (string, integer, float, boolean)\n",
    "#              A variable behaves as if it was the value it contains\n",
    "first_name = \"Nitesh\"\n",
    "print(first_name)"
   ]
  },
  {
   "cell_type": "code",
   "execution_count": 11,
   "metadata": {},
   "outputs": [
    {
     "name": "stdout",
     "output_type": "stream",
     "text": [
      "Hello Nitesh\n",
      "You like Dosa\n",
      "Your email is bruh@gmail.com\n"
     ]
    }
   ],
   "source": [
    "# Strings\n",
    "first_name = \"Nitesh\"\n",
    "print(f\"Hello {first_name}\")\n",
    "food=\"Dosa\"\n",
    "print(f\"You like {food}\")\n",
    "email='bruh@gmail.com' \n",
    "print(f\"Your email is {email}\")"
   ]
  },
  {
   "cell_type": "code",
   "execution_count": 15,
   "metadata": {},
   "outputs": [
    {
     "name": "stdout",
     "output_type": "stream",
     "text": [
      "You are 25 years old\n",
      "you are buying 3 dosas\n",
      "Your class has 50 students\n"
     ]
    }
   ],
   "source": [
    "# Integers\n",
    "age= 25\n",
    "quantity= 3\n",
    "num_of_students= 50\n",
    "print(f\"You are {age} years old\")\n",
    "print(f\"you are buying {quantity} dosas\")\n",
    "print(f\"Your class has {num_of_students} students\")"
   ]
  },
  {
   "cell_type": "code",
   "execution_count": 18,
   "metadata": {},
   "outputs": [
    {
     "name": "stdout",
     "output_type": "stream",
     "text": [
      "the price is $3.99\n",
      "Your weight is 65.5 kg\n",
      "Your cgpa is: 3.2\n",
      "you ran 5.5 km\n"
     ]
    }
   ],
   "source": [
    "# Floats\n",
    "price= 3.99\n",
    "weight= 65.5\n",
    "cgpa= 3.2\n",
    "distance=5.5\n",
    "print(f\"the price is ${price}\")\n",
    "print(f\"Your weight is {weight} kg\")\n",
    "print(f\"Your cgpa is: {cgpa}\")\n",
    "print(f\"you ran {distance} km\")"
   ]
  },
  {
   "cell_type": "code",
   "execution_count": 26,
   "metadata": {},
   "outputs": [
    {
     "name": "stdout",
     "output_type": "stream",
     "text": [
      "Are you a student? True\n",
      "Are you smart? False\n",
      "You are a student\n",
      "You are an idiot\n",
      "This item is for sale\n",
      "This is an online course\n"
     ]
    }
   ],
   "source": [
    "#Boolean\n",
    "is_student= True\n",
    "is_smart= False\n",
    "for_sale= True\n",
    "is_online= True\n",
    "print(f\"Are you a student? {is_student}\")\n",
    "print(f\"Are you smart? {is_smart}\")\n",
    "\n",
    "if is_student:\n",
    "    print(\"You are a student\")\n",
    "else:\n",
    "    print(\"You are not a student\")\n",
    "\n",
    "if is_smart:\n",
    "    print(\"You are smart\")\n",
    "else:  \n",
    "    print(\"You are an idiot\")\n",
    "\n",
    "if for_sale:\n",
    "    print(\"This item is for sale\")\n",
    "else:   \n",
    "    print(\"This item is not available\")\n",
    "\n",
    "if is_online:\n",
    "    print(\"This is an online course\")\n",
    "else:\n",
    "    print(\"This is an offline course\")"
   ]
  },
  {
   "cell_type": "code",
   "execution_count": 27,
   "metadata": {},
   "outputs": [],
   "source": [
    "#summary\n",
    "\n",
    "# Strings\n",
    "first_name = \"Nitesh\"\n",
    "food=\"Dosa\"\n",
    "email= \"bruh@gmail.com\"\n",
    "\n",
    "# Integers\n",
    "age= 25\n",
    "quantity= 3\n",
    "num_of_students= 50\n",
    "\n",
    "# Floats\n",
    "price= 3.99\n",
    "weight= 65.5\n",
    "cgpa= 3.2\n",
    "\n",
    "# Booleans\n",
    "is_student= True\n",
    "is_smart= False\n",
    "for_sale= True\n"
   ]
  },
  {
   "cell_type": "code",
   "execution_count": 40,
   "metadata": {},
   "outputs": [
    {
     "name": "stdout",
     "output_type": "stream",
     "text": [
      "<class 'str'>\n",
      "<class 'int'>\n",
      "<class 'float'>\n",
      "<class 'bool'>\n",
      "25.0\n",
      "3\n",
      "<class 'str'>\n",
      "26.0\n",
      "True\n",
      "False\n"
     ]
    }
   ],
   "source": [
    "# Typecasting= the process of converting a value from one data type to another\n",
    "#               str(), int(), float(), bool()\n",
    "name=\"Nitesh Banjaare\"\n",
    "age= 25\n",
    "cgpa= 3.2\n",
    "is_student= True\n",
    "\n",
    "print(type(name))\n",
    "print(type(age))\n",
    "print(type(cgpa))\n",
    "print(type(is_student))\n",
    "\n",
    "is_student= str(is_student)\n",
    "age= float(age)\n",
    "cgpa= int(cgpa)\n",
    "print(age)\n",
    "print(cgpa)\n",
    "print(type(is_student))\n",
    "age += 1\n",
    "print(age)\n",
    "\n",
    "name= bool(name)\n",
    "print(name)\n",
    "\n",
    "name2=\"\"\n",
    "name2= bool(name2)\n",
    "print(name2)"
   ]
  },
  {
   "cell_type": "code",
   "execution_count": 4,
   "metadata": {},
   "outputs": [
    {
     "name": "stdout",
     "output_type": "stream",
     "text": [
      "<class 'str'>\n"
     ]
    },
    {
     "data": {
      "text/plain": [
       "'text the push feature'"
      ]
     },
     "execution_count": 4,
     "metadata": {},
     "output_type": "execute_result"
    }
   ],
   "source": [
    "a= \"text the push feature\"\n",
    "print(type(a))\n",
    "a"
   ]
  },
  {
   "cell_type": "code",
   "execution_count": 1,
   "metadata": {},
   "outputs": [
    {
     "name": "stdout",
     "output_type": "stream",
     "text": [
      "PC Test\n"
     ]
    }
   ],
   "source": [
    "print(\"PC Test\")"
   ]
  },
  {
   "cell_type": "code",
   "execution_count": 1,
   "metadata": {},
   "outputs": [
    {
     "name": "stdout",
     "output_type": "stream",
     "text": [
      "Both Working Fine\n"
     ]
    }
   ],
   "source": [
    "print(\"Both Working Fine\")"
   ]
  }
 ],
 "metadata": {
  "kernelspec": {
   "display_name": "Python 3",
   "language": "python",
   "name": "python3"
  },
  "language_info": {
   "codemirror_mode": {
    "name": "ipython",
    "version": 3
   },
   "file_extension": ".py",
   "mimetype": "text/x-python",
   "name": "python",
   "nbconvert_exporter": "python",
   "pygments_lexer": "ipython3",
   "version": "3.11.9"
  }
 },
 "nbformat": 4,
 "nbformat_minor": 2
}
